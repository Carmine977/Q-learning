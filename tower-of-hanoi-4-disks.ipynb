{
 "cells": [
  {
   "cell_type": "markdown",
   "metadata": {},
   "source": [
    "## Tower of Hanoi Using Q-Learning"
   ]
  },
  {
   "cell_type": "markdown",
   "metadata": {},
   "source": [
    "The objective of the puzzle is to move the entire stack to another rod, obeying the following simple rules:\n",
    "1. Only one disk can be moved at a time.\n",
    "2. Each move consists of taking the upper disk from one of the stacks and placing it on top of another stack.\n",
    "3. No disk may be placed on top of a smaller disk."
   ]
  },
  {
   "cell_type": "markdown",
   "metadata": {},
   "source": [
    "<img src=\"files/towers-of-hanoi.png\" width=\"60%\", heigth=\"60%\">"
   ]
  },
  {
   "cell_type": "code",
   "execution_count": 1,
   "metadata": {
    "collapsed": true
   },
   "outputs": [],
   "source": [
    "# Import libraries\n",
    "import numpy as np\n",
    "import pickle\n",
    "import time"
   ]
  },
  {
   "cell_type": "code",
   "execution_count": 2,
   "metadata": {
    "collapsed": false
   },
   "outputs": [],
   "source": [
    "# Load reward matrix \"R\" from file\n",
    "R = np.matrix(np.genfromtxt('R_4d.csv',delimiter=','))\n",
    "\n",
    "# Load states\n",
    "with open ('comb_4d', 'rb') as fp:\n",
    "    comb = pickle.load(fp)"
   ]
  },
  {
   "cell_type": "markdown",
   "metadata": {},
   "source": [
    "[__Click here to see how states and matrix R are generated__](solution-space-4-disks.ipynb)"
   ]
  },
  {
   "cell_type": "code",
   "execution_count": 3,
   "metadata": {
    "collapsed": true
   },
   "outputs": [],
   "source": [
    "# Initialize \"Q\" matrix to zero\n",
    "Q = np.matrix(np.zeros([R.shape[0],R.shape[0]]))\n",
    "\n",
    "# Gamma (learning parameter).\n",
    "gamma = 0.8\n",
    "\n",
    "# Initial state (Usually to be chosen at random)\n",
    "initial_state = 0"
   ]
  },
  {
   "cell_type": "code",
   "execution_count": 4,
   "metadata": {
    "collapsed": true
   },
   "outputs": [],
   "source": [
    "# This function returns all available actions in the state given as an argument\n",
    "def available_actions(state):\n",
    "    current_state_row = R[state,]\n",
    "    av_act = np.where(current_state_row >= 0)[1]\n",
    "    return av_act"
   ]
  },
  {
   "cell_type": "code",
   "execution_count": 5,
   "metadata": {
    "collapsed": false
   },
   "outputs": [],
   "source": [
    "# This function chooses at random which action to be performed within the range of all the available actions.\n",
    "def sample_next_action(available_actions_range):\n",
    "    next_action = int(np.random.choice(available_actions_range,1))\n",
    "    return next_action"
   ]
  },
  {
   "cell_type": "code",
   "execution_count": 6,
   "metadata": {
    "collapsed": false
   },
   "outputs": [],
   "source": [
    "# This function updates the Q matrix according to the path selected and the Q-Learning algorithm\n",
    "def update(current_state, action, gamma):\n",
    "    \n",
    "    max_value = np.max(Q[action,])\n",
    "    \n",
    "    # Q learning formula\n",
    "    Q[current_state, action] = R[current_state, action] + gamma * max_value"
   ]
  },
  {
   "cell_type": "markdown",
   "metadata": {},
   "source": [
    "### Training"
   ]
  },
  {
   "cell_type": "code",
   "execution_count": 7,
   "metadata": {
    "collapsed": false
   },
   "outputs": [
    {
     "name": "stdout",
     "output_type": "stream",
     "text": [
      "Elapsed time: 38.4489998817, s\n",
      "\n",
      "Trained Q matrix:\n",
      "[[  0.           0.           0.         ...,   0.           0.           0.        ]\n",
      " [  0.           0.           0.         ...,   0.           0.           0.        ]\n",
      " [  0.           0.          91.79495198 ...,   0.           0.           0.        ]\n",
      " ..., \n",
      " [  0.           0.           0.         ...,   0.           0.           0.        ]\n",
      " [  0.           0.           0.         ...,   0.           0.           0.        ]\n",
      " [  0.           0.           0.         ...,   0.           0.           0.        ]]\n"
     ]
    }
   ],
   "source": [
    "# Training\n",
    "t = time.time()\n",
    "# Train over 10 000 iterations. (Re-iterate the process above).\n",
    "for i in range(1000):\n",
    "    target = False\n",
    "    current_state = np.random.randint(0, int(Q.shape[0]))\n",
    "    \n",
    "    while not target:    \n",
    "        available_act = available_actions(current_state)\n",
    "        action = sample_next_action(available_act)\n",
    "        update(current_state,action,gamma)\n",
    "        current_state = action\n",
    "        if Q[current_state,action] >= 100:\n",
    "            target = True\n",
    "\n",
    "# Normalize the \"trained\" Q matrix\n",
    "print \"Elapsed time: {}, s\".format(time.time()-t)\n",
    "print(\"\\nTrained Q matrix:\")\n",
    "print(Q/np.max(Q)*100)\n",
    "np.savetxt(\"Q_4d.csv\", Q, delimiter=\",\")"
   ]
  },
  {
   "cell_type": "markdown",
   "metadata": {},
   "source": [
    "### Testing"
   ]
  },
  {
   "cell_type": "code",
   "execution_count": 11,
   "metadata": {
    "collapsed": false
   },
   "outputs": [
    {
     "name": "stdout",
     "output_type": "stream",
     "text": [
      "Selected path:\n",
      " 0: state 25 --> ('*', 'E', 'SML')\n",
      " 1: state 39 --> ('S', 'E', 'ML')\n",
      " 2: state 34 --> ('S', 'ME', 'L')\n",
      " 3: state 20 --> ('*', 'SME', 'L')\n",
      " 4: state 15 --> ('L', 'SME', '*')\n",
      " 5: state 36 --> ('L', 'ME', 'S')\n",
      " 6: state 44 --> ('ML', 'E', 'S')\n",
      " 7: state 23 --> ('SML', 'E', '*')\n",
      " 8: state 24 --> ('SML', '*', 'E')\n",
      " 9: state 78 --> ('ML', '*', 'SE')\n",
      "10: state 47 --> ('L', 'M', 'SE')\n",
      "11: state 58 --> ('L', 'SM', 'E')\n",
      "12: state 98 --> ('*', 'SM', 'LE')\n",
      "13: state 27 --> ('S', 'M', 'LE')\n",
      "14: state  4 --> ('S', '*', 'MLE')\n",
      "15: state  2 --> ('*', '*', 'SMLE')\n"
     ]
    }
   ],
   "source": [
    "# Goal state = 26\n",
    "current_state = 25\n",
    "steps = [current_state]\n",
    "\n",
    "while current_state != 2:\n",
    "\n",
    "    next_step_index = np.where(Q[current_state,] == np.max(Q[current_state,]))[1]\n",
    "    \n",
    "    if next_step_index.shape[0] > 1:\n",
    "        next_step_index = int(np.random.choice(next_step_index, size = 1))\n",
    "    else:\n",
    "        next_step_index = int(next_step_index)\n",
    "    \n",
    "    steps.append(next_step_index)\n",
    "    current_state = next_step_index\n",
    "\n",
    "# Print selected sequence of steps\n",
    "print(\"Selected path:\")\n",
    "for ix, state in enumerate(steps):\n",
    "    print \"{:2.0f}: state {:2.0f} --> {}\".format(ix, state, comb[state])"
   ]
  },
  {
   "cell_type": "markdown",
   "metadata": {},
   "source": [
    "### From string to number"
   ]
  },
  {
   "cell_type": "code",
   "execution_count": 10,
   "metadata": {
    "collapsed": false
   },
   "outputs": [
    {
     "name": "stdout",
     "output_type": "stream",
     "text": [
      "25\n"
     ]
    }
   ],
   "source": [
    "print comb.index(('*', 'E', 'SML'))"
   ]
  },
  {
   "cell_type": "code",
   "execution_count": null,
   "metadata": {
    "collapsed": true
   },
   "outputs": [],
   "source": []
  }
 ],
 "metadata": {
  "anaconda-cloud": {},
  "kernelspec": {
   "display_name": "Python 2",
   "language": "python",
   "name": "python2"
  },
  "language_info": {
   "codemirror_mode": {
    "name": "ipython",
    "version": 2
   },
   "file_extension": ".py",
   "mimetype": "text/x-python",
   "name": "python",
   "nbconvert_exporter": "python",
   "pygments_lexer": "ipython2",
   "version": "2.7.12"
  }
 },
 "nbformat": 4,
 "nbformat_minor": 0
}
